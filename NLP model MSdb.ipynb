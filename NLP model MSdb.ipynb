{
 "cells": [
  {
   "cell_type": "markdown",
   "metadata": {},
   "source": [
    "# NLP model for Microsoft db"
   ]
  },
  {
   "cell_type": "code",
   "execution_count": 1,
   "metadata": {},
   "outputs": [],
   "source": [
    "# Import the English language class\n",
    "from spacy.lang.en import English\n",
    "\n",
    "# Create the nlp object\n",
    "nlp = English()"
   ]
  },
  {
   "cell_type": "code",
   "execution_count": 2,
   "metadata": {},
   "outputs": [],
   "source": [
    "text = \"\"\"Masters or PhD in Materials Engineering or equivalent \n",
    "10 years’ experience in a professional engineering laboratory environment and background in reliability testing and analysis.  \n",
    "Deep understanding of statistical sampling methods. \n",
    " Deep understanding of root cause/corrective action methods to identify contributing factors of production defects. \n",
    "Understands server microprocessor architectures, including the operation of related subsystems, interfaces, and components. \n",
    "In Depth knowledge of reliability test methods. \n",
    "In Depth knowledge in the physics of failure for ASIC, PCB assembled materials \n",
    "In Depth knowledge of AC/DC, DC/DC power architectures.   \n",
    "In Depth knowledge of industry reliability test methods and controls.   \n",
    "In depth knowledge of server components. \n",
    "Able to communicate effectively in written and oral manner, so that all stakeholders have clear understanding of issues and metrics \n",
    "Can use and apply complex statistics to evaluate product reliability and highlight potential product risks \n",
    "Has strong communication and project management skills\"\"\""
   ]
  },
  {
   "cell_type": "code",
   "execution_count": 3,
   "metadata": {},
   "outputs": [
    {
     "data": {
      "text/plain": [
       "['Masters or PhD in Materials Engineering or equivalent ',\n",
       " '10 years’ experience in a professional engineering laboratory environment and background in reliability testing and analysis.  ',\n",
       " 'Deep understanding of statistical sampling methods. ',\n",
       " ' Deep understanding of root cause/corrective action methods to identify contributing factors of production defects. ',\n",
       " 'Understands server microprocessor architectures, including the operation of related subsystems, interfaces, and components. ',\n",
       " 'In Depth knowledge of reliability test methods. ',\n",
       " 'In Depth knowledge in the physics of failure for ASIC, PCB assembled materials ',\n",
       " 'In Depth knowledge of AC/DC, DC/DC power architectures.   ',\n",
       " 'In Depth knowledge of industry reliability test methods and controls.   ',\n",
       " 'In depth knowledge of server components. ',\n",
       " 'Able to communicate effectively in written and oral manner, so that all stakeholders have clear understanding of issues and metrics ',\n",
       " 'Can use and apply complex statistics to evaluate product reliability and highlight potential product risks ',\n",
       " 'Has strong communication and project management skills']"
      ]
     },
     "execution_count": 3,
     "metadata": {},
     "output_type": "execute_result"
    }
   ],
   "source": [
    "text = text.split('\\n')\n",
    "text"
   ]
  },
  {
   "cell_type": "code",
   "execution_count": 4,
   "metadata": {},
   "outputs": [
    {
     "name": "stdout",
     "output_type": "stream",
     "text": [
      "Index:    [0, 1, 2, 3, 4, 5, 6, 7]\n",
      "Text:     ['Masters', 'or', 'PhD', 'in', 'Materials', 'Engineering', 'or', 'equivalent']\n",
      "is_alpha: [True, True, True, True, True, True, True, True]\n",
      "is_punct: [False, False, False, False, False, False, False, False]\n",
      "like_num: [False, False, False, False, False, False, False, False]\n"
     ]
    }
   ],
   "source": [
    "doc = nlp(text[0])\n",
    "print('Index:   ', [token.i for token in doc])\n",
    "print('Text:    ', [token.text for token in doc])\n",
    "\n",
    "print('is_alpha:', [token.is_alpha for token in doc])\n",
    "print('is_punct:', [token.is_punct for token in doc])\n",
    "print('like_num:', [token.like_num for token in doc])"
   ]
  },
  {
   "cell_type": "markdown",
   "metadata": {},
   "source": [
    "Predicting Part-of-speech Tags"
   ]
  },
  {
   "cell_type": "code",
   "execution_count": 5,
   "metadata": {},
   "outputs": [
    {
     "name": "stdout",
     "output_type": "stream",
     "text": [
      "Masters NOUN\n",
      "or CCONJ\n",
      "PhD NOUN\n",
      "in ADP\n",
      "Materials PROPN\n",
      "Engineering PROPN\n",
      "or CCONJ\n",
      "equivalent ADJ\n"
     ]
    }
   ],
   "source": [
    "import spacy\n",
    "\n",
    "# Load the small English model\n",
    "nlp = spacy.load('en_core_web_sm')\n",
    "\n",
    "# Process a text\n",
    "doc = nlp(text[0])\n",
    "\n",
    "# Iterate over the tokens\n",
    "for token in doc:\n",
    "    # Print the text and the predicted part-of-speech tag\n",
    "    print(token.text, token.pos_)"
   ]
  },
  {
   "cell_type": "markdown",
   "metadata": {},
   "source": [
    "Predicting Syntactic Dependencies"
   ]
  },
  {
   "cell_type": "code",
   "execution_count": 6,
   "metadata": {},
   "outputs": [
    {
     "name": "stdout",
     "output_type": "stream",
     "text": [
      "Masters NOUN ROOT Masters\n",
      "or CCONJ cc Masters\n",
      "PhD NOUN conj Masters\n",
      "in ADP prep Masters\n",
      "Materials PROPN compound Engineering\n",
      "Engineering PROPN pobj in\n",
      "or CCONJ cc Masters\n",
      "equivalent ADJ conj Masters\n"
     ]
    }
   ],
   "source": [
    "for token in doc:\n",
    "    print(token.text, token.pos_, token.dep_, token.head.text)"
   ]
  },
  {
   "cell_type": "markdown",
   "metadata": {},
   "source": [
    "Predicting Named Entities"
   ]
  },
  {
   "cell_type": "code",
   "execution_count": 7,
   "metadata": {},
   "outputs": [
    {
     "name": "stdout",
     "output_type": "stream",
     "text": [
      "In Depth knowledge in the physics of failure for ASIC, PCB assembled materials \n",
      "Depth GPE\n",
      "ASIC ORG\n",
      "PCB ORG\n"
     ]
    }
   ],
   "source": [
    "print(text[6])\n",
    "# Process a text\n",
    "doc = nlp(text[6])\n",
    "\n",
    "# Iterate over the predicted entities\n",
    "for ent in doc.ents:\n",
    "    # Print the entity text and its label\n",
    "    print(ent.text, ent.label_)"
   ]
  },
  {
   "cell_type": "code",
   "execution_count": 8,
   "metadata": {},
   "outputs": [
    {
     "data": {
      "text/plain": [
       "'Countries, cities, states'"
      ]
     },
     "execution_count": 8,
     "metadata": {},
     "output_type": "execute_result"
    }
   ],
   "source": [
    "spacy.explain('GPE')"
   ]
  },
  {
   "cell_type": "code",
   "execution_count": 9,
   "metadata": {},
   "outputs": [
    {
     "data": {
      "text/plain": [
       "'noun, proper singular'"
      ]
     },
     "execution_count": 9,
     "metadata": {},
     "output_type": "execute_result"
    }
   ],
   "source": [
    "spacy.explain('NNP')"
   ]
  },
  {
   "cell_type": "code",
   "execution_count": 10,
   "metadata": {},
   "outputs": [
    {
     "data": {
      "text/plain": [
       "'direct object'"
      ]
     },
     "execution_count": 10,
     "metadata": {},
     "output_type": "execute_result"
    }
   ],
   "source": [
    "spacy.explain('dobj')"
   ]
  },
  {
   "cell_type": "code",
   "execution_count": 11,
   "metadata": {},
   "outputs": [
    {
     "data": {
      "text/plain": [
       "'Companies, agencies, institutions, etc.'"
      ]
     },
     "execution_count": 11,
     "metadata": {},
     "output_type": "execute_result"
    }
   ],
   "source": [
    "spacy.explain('ORG')"
   ]
  },
  {
   "cell_type": "code",
   "execution_count": 15,
   "metadata": {},
   "outputs": [
    {
     "name": "stdout",
     "output_type": "stream",
     "text": [
      "Masters     NOUN      ROOT      \n",
      "or          CCONJ     cc        \n",
      "PhD         NOUN      conj      \n",
      "in          ADP       prep      \n",
      "Materials   PROPN     compound  \n",
      "Engineering PROPN     pobj      \n",
      "or          CCONJ     cc        \n",
      "equivalent  ADJ       conj      \n"
     ]
    }
   ],
   "source": [
    "import spacy\n",
    "\n",
    "nlp = spacy.load(\"en_core_web_sm\")\n",
    "\n",
    "# Process the text\n",
    "doc = nlp(text[0])\n",
    "\n",
    "for token in doc:\n",
    "    # Get the token text, part-of-speech tag and dependency label\n",
    "    token_text = token.text\n",
    "    token_pos = token.pos_\n",
    "    token_dep = token.dep_\n",
    "    # This is for formatting only\n",
    "    print(\"{:<12}{:<10}{:<10}\".format(token_text, token_pos, token_dep))"
   ]
  }
 ],
 "metadata": {
  "kernelspec": {
   "display_name": "Python 3",
   "language": "python",
   "name": "python3"
  },
  "language_info": {
   "codemirror_mode": {
    "name": "ipython",
    "version": 3
   },
   "file_extension": ".py",
   "mimetype": "text/x-python",
   "name": "python",
   "nbconvert_exporter": "python",
   "pygments_lexer": "ipython3",
   "version": "3.7.3"
  }
 },
 "nbformat": 4,
 "nbformat_minor": 2
}
